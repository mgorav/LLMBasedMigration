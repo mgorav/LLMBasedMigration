{
 "cells": [
  {
   "cell_type": "markdown",
   "id": "5623d0b2",
   "metadata": {},
   "source": [
    "# Python 2 to Python 3 Code Converter Notebook\n",
    "\n",
    "## Introduction\n",
    "\n",
    "This Jupyter notebook assists in converting Python 2 code to Python 3. It uses CodeParrot, an open-source language model trained on a large corpus of code, making it suitable for code translation tasks.\n",
    "\n",
    "## Objective\n",
    "\n",
    "The goal is to ease the transition from Python 2 to Python 3, ensuring legacy code is compatible with modern Python standards.\n"
   ]
  },
  {
   "cell_type": "markdown",
   "id": "fb36a27e",
   "metadata": {},
   "source": [
    "## Alternative Conversion Methods\n",
    "\n",
    "Note: For more reliable Python 2 to Python 3 code conversion, consider using specialized tools like `2to3`. While the AI model can assist in conversion, tools like `2to3` are specifically designed for this purpose and may provide more accurate results."
   ]
  },
  {
   "cell_type": "code",
   "execution_count": 6,
   "id": "3ccaa24874983a5e",
   "metadata": {
    "collapsed": false,
    "ExecuteTime": {
     "end_time": "2024-01-24T11:52:14.454054Z",
     "start_time": "2024-01-24T11:52:14.442217Z"
    }
   },
   "outputs": [],
   "source": [
    "# Importing necessary libraries\n",
    "from transformers import pipeline"
   ]
  },
  {
   "cell_type": "markdown",
   "id": "51abcc00f26e4d8",
   "metadata": {
    "collapsed": false
   },
   "source": [
    "## Model Initialization\n",
    "\n",
    "Initialize the CodeParrot model from the Hugging Face `transformers` library.\n"
   ]
  },
  {
   "cell_type": "code",
   "execution_count": 7,
   "id": "42750d88951b2203",
   "metadata": {
    "collapsed": false,
    "ExecuteTime": {
     "end_time": "2024-01-24T11:52:24.830987Z",
     "start_time": "2024-01-24T11:52:14.446526Z"
    }
   },
   "outputs": [],
   "source": [
    "# Initialize the CodeParrot model\n",
    "model = pipeline('text-generation', model='lvwerra/codeparrot')"
   ]
  },
  {
   "cell_type": "markdown",
   "id": "62021a8679023015",
   "metadata": {
    "collapsed": false
   },
   "source": [
    "## Code Conversion Function\n",
    "\n",
    "### Defining the Conversion Function\n",
    "Define a function to convert Python 2 code to Python 3 using CodeParrot.\n"
   ]
  },
  {
   "cell_type": "code",
   "execution_count": 8,
   "id": "b614b19ae29c05e3",
   "metadata": {
    "collapsed": false,
    "ExecuteTime": {
     "end_time": "2024-01-24T11:52:24.843947Z",
     "start_time": "2024-01-24T11:52:24.833467Z"
    }
   },
   "outputs": [],
   "source": [
    "def convert_python2_to_python3(python2_code):\n",
    "    \"\"\"Convert Python 2 code to Python 3 using CodeParrot.\"\"\" \n",
    "    prompt = '### Please convert the following Python 2 code to Python 3 syntax:\\n' + python2_code\n",
    "    try:\n",
    "        response = model(prompt, max_new_tokens=300)  # Further increased max_new_tokens\n",
    "        python3_code = response[0]['generated_text']\n",
    "        return python3_code\n",
    "    except Exception as e:\n",
    "        print(\"An error occurred during the conversion:\", e)\n",
    "        return None"
   ]
  },
  {
   "cell_type": "markdown",
   "id": "d6d061662736a81c",
   "metadata": {
    "collapsed": false
   },
   "source": [
    "### Input Python 2 Code\n",
    "Input your Python 2 code in the cell below.\n"
   ]
  },
  {
   "cell_type": "code",
   "execution_count": 9,
   "id": "eff783db961fe4b3",
   "metadata": {
    "collapsed": false,
    "ExecuteTime": {
     "end_time": "2024-01-24T11:52:24.844582Z",
     "start_time": "2024-01-24T11:52:24.839220Z"
    }
   },
   "outputs": [
    {
     "name": "stdout",
     "output_type": "stream",
     "text": [
      "Python 2 Code:\n",
      " \n",
      "# Sample Python 2 code\n",
      "\n",
      "# Print statement\n",
      "print \"Hello, world!\"\n",
      "\n",
      "# Integer division\n",
      "a = 5\n",
      "b = 2\n",
      "print \"Integer division (5/2):\", a / b\n",
      "\n",
      "# Unicode string\n",
      "unicode_string = u\"This is a unicode string\"\n",
      "\n",
      "# Exception handling\n",
      "try:\n",
      "    x = 1 / 0\n",
      "except ZeroDivisionError, e:\n",
      "    print \"Caught an exception:\", e\n",
      "\n",
      "# xrange\n",
      "for i in xrange(5):\n",
      "    print i\n"
     ]
    }
   ],
   "source": [
    "python2_code = \"\"\"\n",
    "# Sample Python 2 code\n",
    "\n",
    "# Print statement\n",
    "print \"Hello, world!\"\n",
    "\n",
    "# Integer division\n",
    "a = 5\n",
    "b = 2\n",
    "print \"Integer division (5/2):\", a / b\n",
    "\n",
    "# Unicode string\n",
    "unicode_string = u\"This is a unicode string\"\n",
    "\n",
    "# Exception handling\n",
    "try:\n",
    "    x = 1 / 0\n",
    "except ZeroDivisionError, e:\n",
    "    print \"Caught an exception:\", e\n",
    "\n",
    "# xrange\n",
    "for i in xrange(5):\n",
    "    print i\n",
    "\"\"\"\n",
    "\n",
    "print('Python 2 Code:\\n', python2_code)\n"
   ]
  },
  {
   "cell_type": "markdown",
   "id": "f9e81e04788225e4",
   "metadata": {
    "collapsed": false
   },
   "source": [
    "### Convert and Output Python 3 Code\n",
    "Run the cell below to convert the Python 2 code to Python 3.\n"
   ]
  },
  {
   "cell_type": "code",
   "execution_count": 10,
   "id": "555f2601514aad55",
   "metadata": {
    "collapsed": false,
    "ExecuteTime": {
     "end_time": "2024-01-24T11:54:30.584966Z",
     "start_time": "2024-01-24T11:52:24.843010Z"
    }
   },
   "outputs": [
    {
     "name": "stderr",
     "output_type": "stream",
     "text": [
      "Setting `pad_token_id` to `eos_token_id`:50256 for open-end generation.\n"
     ]
    },
    {
     "name": "stdout",
     "output_type": "stream",
     "text": [
      "Converted Python 3 Code:\n",
      " ### Please convert the following Python 2 code to Python 3 syntax:\n",
      "\n",
      "# Sample Python 2 code\n",
      "\n",
      "# Print statement\n",
      "print \"Hello, world!\"\n",
      "\n",
      "# Integer division\n",
      "a = 5\n",
      "b = 2\n",
      "print \"Integer division (5/2):\", a / b\n",
      "\n",
      "# Unicode string\n",
      "unicode_string = u\"This is a unicode string\"\n",
      "\n",
      "# Exception handling\n",
      "try:\n",
      "    x = 1 / 0\n",
      "except ZeroDivisionError, e:\n",
      "    print \"Caught an exception:\", e\n",
      "\n",
      "# xrange\n",
      "for i in xrange(5):\n",
      "    print i\n",
      "print \"xrange (3,7):\", range(3,7)\n",
      "a = 3\n",
      "b = 7\n",
      "while True:\n",
      "    try:\n",
      "        x = 1 / 0\n",
      "    except ZeroDivisionError, e:\n",
      "        print \"Caught an exception:\", e\n",
      "\n",
      "# xrange\n",
      "for i in xrange(5):\n",
      "    print i\n",
      "print \"xrange (3,7):\", range(3,7)\n",
      "a = 7\n",
      "try:\n",
      "    x = 1 / 0\n",
      "    print \"exception:\", x * 4\n",
      "except ZeroDivisionError, e:\n",
      "    print \"Caught an exception:\", e\n",
      "\n",
      "# xrange(3)\n",
      "a = 3\n",
      "b = 3\n",
      "while True:\n",
      "    try:\n",
      "        y = 1 / 0\n",
      "        if y == 0:\n",
      "            print \"Caught an exception:\", e\n",
      "        y = 11 / 0\n",
      "        if y == 0:\n",
      "            print \"Caught an exception:\", y\n",
      "    except ZeroDivisionError, e:\n",
      "        print \"Caught an exception:\", e\n",
      "\n",
      "import io\n",
      "import os\n",
      "import unittest\n",
      "\n",
      "from test import test_support\n",
      "\n",
      "from test_import_bare_module import ImportModule, TestImportModule\n",
      "\n",
      "TEST_STRING_1 = u\"\"\"\n",
      "some_module\n",
      "\"\"\"\n",
      "\n",
      "TEST_STRING_2 = u\"\"\"\\\n",
      "some_module\n",
      "asdf\n",
      "\"\"\"\n",
      "\n",
      "class ImportModuleTestCase(unittest.TestCase):\n",
      "\n",
      "    def test_import_string(self):\n",
      "\n",
      "        savepath = test_support.TESTFN\n",
      "        if not os\n"
     ]
    }
   ],
   "source": [
    "python3_code = convert_python2_to_python3(python2_code)\n",
    "print('Converted Python 3 Code:\\n', python3_code)"
   ]
  },
  {
   "cell_type": "code",
   "execution_count": 10,
   "id": "3859f18279acd2b",
   "metadata": {
    "collapsed": false,
    "ExecuteTime": {
     "end_time": "2024-01-24T11:54:30.588127Z",
     "start_time": "2024-01-24T11:54:30.585273Z"
    }
   },
   "outputs": [],
   "source": []
  }
 ],
 "metadata": {
  "kernelspec": {
   "display_name": "Python 3 (ipykernel)",
   "language": "python",
   "name": "python3"
  }
 },
 "nbformat": 4,
 "nbformat_minor": 5
}
