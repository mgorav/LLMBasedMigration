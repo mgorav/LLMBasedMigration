{
 "cells": [
  {
   "cell_type": "markdown",
   "id": "a1cf008d",
   "metadata": {},
   "source": [
    "# Python 2 to Python 3 Code Conversion Using `2to3`\n",
    "\n",
    "## Introduction\n",
    "\n",
    "This Jupyter notebook guides you through converting Python 2 code to Python 3 using the `2to3` tool, which is part of Python's standard library. `2to3` automatically converts Python 2 syntax to Python 3 syntax.\n",
    "\n",
    "## Objective\n",
    "\n",
    "To provide a reliable and automated method to convert Python 2 code to Python 3, specifically for complex scripts where manual conversion is prone to error.\n"
   ]
  },
  {
   "cell_type": "markdown",
   "id": "a3d3fffe",
   "metadata": {},
   "source": [
    "## Using `2to3`\n",
    "\n",
    "`2to3` can be run from the command line. It takes a Python 2 script as input and outputs a Python 3 script. This notebook demonstrates how to use `2to3` within Jupyter.\n"
   ]
  },
  {
   "cell_type": "code",
   "outputs": [],
   "source": [
    "!pip install 2to3"
   ],
   "metadata": {
    "collapsed": false
   },
   "id": "b9c8560ea04e5bc"
  },
  {
   "cell_type": "markdown",
   "source": [
    "### Sample Python 2 Code\n",
    "Here's a sample Python 2 code snippet. You can replace it with your own code.\n"
   ],
   "metadata": {
    "collapsed": false
   },
   "id": "59ceed1700b5fd42"
  },
  {
   "cell_type": "code",
   "outputs": [],
   "source": [
    "# Sample Python 2 code\n",
    "python2_code = '''\n",
    "# Sample Python 2 code with medium to complex examples\n",
    "print 'Hello, world!'\n",
    "\n",
    "# Integer division and xrange\n",
    "for i in xrange(5):\n",
    "    print 'Number:', i / 2\n",
    "\n",
    "# Exception handling with old syntax\n",
    "try:\n",
    "    x = 1 / 0\n",
    "except ZeroDivisionError, e:\n",
    "    print 'Caught an exception:', e\n",
    "\n",
    "# Unicode string\n",
    "unicode_string = u'This is a unicode string ✓'\n",
    "\n",
    "# Dictionary iteritems\n",
    "sample_dict = {'a': 1, 'b': 2}\n",
    "for key, value in sample_dict.iteritems():\n",
    "    print key, value\n",
    "'''\n",
    "print('Python 2 Code:\\n', python2_code)"
   ],
   "metadata": {
    "collapsed": false
   },
   "id": "212932949432d081"
  },
  {
   "cell_type": "markdown",
   "source": [
    "### Running `2to3`\n",
    "Run the cell below to convert the Python 2 code to Python 3 using `2to3`.\n"
   ],
   "metadata": {
    "collapsed": false
   },
   "id": "fcf31c76a8dd2bd"
  },
  {
   "cell_type": "code",
   "outputs": [],
   "source": [
    "# Writing the Python 2 code to a file\n",
    "with open('sample_code.py', 'w') as file:\n",
    "    file.write(python2_code)\n",
    "\n",
    "# Running 2to3 to convert the code\n",
    "!2to3 --write --nobackups sample_code.py"
   ],
   "metadata": {
    "collapsed": false
   },
   "id": "cca7e8d332db2c51"
  },
  {
   "cell_type": "markdown",
   "source": [
    "### Converted Python 3 Code\n",
    "After running `2to3`, the converted Python 3 code will be in 'sample_code.py'. Read and print the converted code below.\n"
   ],
   "metadata": {
    "collapsed": false
   },
   "id": "74627b730ef59c13"
  },
  {
   "cell_type": "code",
   "outputs": [
    {
     "name": "stdout",
     "output_type": "stream",
     "text": [
      "Converted Python 3 Code:\n",
      " \n",
      "# Sample Python 2 code with medium to complex examples\n",
      "print('Hello, world!')\n",
      "\n",
      "# Integer division and xrange\n",
      "for i in range(5):\n",
      "    print('Number:', i / 2)\n",
      "\n",
      "# Exception handling with old syntax\n",
      "try:\n",
      "    x = 1 / 0\n",
      "except ZeroDivisionError as e:\n",
      "    print('Caught an exception:', e)\n",
      "\n",
      "# Unicode string\n",
      "unicode_string = 'This is a unicode string ✓'\n",
      "\n",
      "# Dictionary iteritems\n",
      "sample_dict = {'a': 1, 'b': 2}\n",
      "for key, value in sample_dict.items():\n",
      "    print(key, value)\n"
     ]
    }
   ],
   "source": [
    "# Reading the converted Python 3 code\n",
    "with open('sample_code.py', 'r') as file:\n",
    "    python3_code = file.read()\n",
    "print('Converted Python 3 Code:\\n', python3_code)"
   ],
   "metadata": {
    "collapsed": false,
    "ExecuteTime": {
     "end_time": "2024-01-24T12:01:03.674756Z",
     "start_time": "2024-01-24T12:01:03.670478Z"
    }
   },
   "id": "872e7152309c97e0",
   "execution_count": 8
  },
  {
   "cell_type": "code",
   "outputs": [],
   "source": [],
   "metadata": {
    "collapsed": false
   },
   "id": "9185a0c3f0ac9a43"
  }
 ],
 "metadata": {
  "kernelspec": {
   "name": "python3",
   "language": "python",
   "display_name": "Python 3 (ipykernel)"
  }
 },
 "nbformat": 4,
 "nbformat_minor": 5
}
